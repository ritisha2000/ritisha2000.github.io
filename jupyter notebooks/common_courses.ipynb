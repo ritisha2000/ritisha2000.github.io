{
 "cells": [
  {
   "cell_type": "code",
   "execution_count": 1,
   "metadata": {},
   "outputs": [],
   "source": [
    "import pandas as pd"
   ]
  },
  {
   "cell_type": "code",
   "execution_count": 2,
   "metadata": {},
   "outputs": [],
   "source": [
    "course_list = pd.read_excel('data\\Course_Section_Search_-_Central.xlsx')\n",
    "sustain_courses = pd.read_excel('data\\FoS Courses from Hub Data_Aug2023.xlsx')"
   ]
  },
  {
   "cell_type": "code",
   "execution_count": 3,
   "metadata": {},
   "outputs": [],
   "source": [
    "sustain_courses = sustain_courses.rename(columns={'Course Code': 'Course'})"
   ]
  },
  {
   "cell_type": "code",
   "execution_count": null,
   "metadata": {},
   "outputs": [],
   "source": [
    "sustain_courses_required = sustain_courses.iloc[:, :5]\n",
    "combined = course_list.merge(sustain_courses_required, on='')"
   ]
  }
 ],
 "metadata": {
  "kernelspec": {
   "display_name": "sci-research",
   "language": "python",
   "name": "python3"
  },
  "language_info": {
   "codemirror_mode": {
    "name": "ipython",
    "version": 3
   },
   "file_extension": ".py",
   "mimetype": "text/x-python",
   "name": "python",
   "nbconvert_exporter": "python",
   "pygments_lexer": "ipython3",
   "version": "3.11.6"
  }
 },
 "nbformat": 4,
 "nbformat_minor": 2
}
